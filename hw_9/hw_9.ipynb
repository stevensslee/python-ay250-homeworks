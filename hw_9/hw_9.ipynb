{
 "cells": [
  {
   "cell_type": "markdown",
   "metadata": {},
   "source": [
    "# Homework 9: scikit-image\n",
    "\n",
    "Due April 28th at 8pm"
   ]
  },
  {
   "cell_type": "markdown",
   "metadata": {},
   "source": [
    "## Asteroid tracking\n",
    "\n",
    "Complete the asteroid tracking breakout from class.\n",
    "\n",
    "What worked well, what went wrong, and what approaches could help in a real-world scenario to improve results?"
   ]
  },
  {
   "cell_type": "markdown",
   "metadata": {},
   "source": [
    "## Panorama stitching\n",
    "\n",
    "One of the scikit-image tutorials shows [how to do panorama stitching](https://github.com/scikit-image/skimage-tutorials/blob/master/lectures/solutions/adv3_panorama-stitching-solution.ipynb).\n",
    "\n",
    "Take 3 or 4 overlapping photos of your own, and use the procedure described to stitch your own panorama."
   ]
  },
  {
   "cell_type": "markdown",
   "metadata": {},
   "source": [
    "## Image Stacking\n",
    "\n",
    "Stack several photos of the night sky to reveal its structure. Here are some datasets you can use:\n",
    "\n",
    "- https://chandra.harvard.edu/photo/openFITS/\n",
    "- https://esahubble.org/projects/fits_liberator/m17data/\n",
    "- https://www.photographingspace.com/homework-download-stack-data/\n",
    "- https://www.astropix.com/html/processing/practice_files.html\n",
    "- https://www.astrobin.com/forum/c/astrophotography/other/all-my-raw-files-are-or-will-be-public-online/\n",
    "\n",
    "(While you should use Python code to do the stacking, you can also compare your results to those obtained using dedicated software such as https://siril.org/.)"
   ]
  }
 ],
 "metadata": {
  "kernelspec": {
   "display_name": "Python 3 (ipykernel)",
   "language": "python",
   "name": "python3"
  },
  "language_info": {
   "codemirror_mode": {
    "name": "ipython",
    "version": 3
   },
   "file_extension": ".py",
   "mimetype": "text/x-python",
   "name": "python",
   "nbconvert_exporter": "python",
   "pygments_lexer": "ipython3",
   "version": "3.9.9"
  },
  "widgets": {
   "state": {},
   "version": "1.1.2"
  }
 },
 "nbformat": 4,
 "nbformat_minor": 1
}
