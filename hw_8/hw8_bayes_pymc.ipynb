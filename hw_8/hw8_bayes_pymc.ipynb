{
 "cells": [
  {
   "cell_type": "code",
   "execution_count": 2,
   "id": "b5404797",
   "metadata": {},
   "outputs": [
    {
     "name": "stdout",
     "output_type": "stream",
     "text": [
      "Requirement already satisfied: mkl in /srv/conda/envs/notebook/lib/python3.9/site-packages (2022.0.2)\r\n",
      "Requirement already satisfied: tbb==2021.* in /srv/conda/envs/notebook/lib/python3.9/site-packages (from mkl) (2021.5.1)\r\n",
      "Requirement already satisfied: intel-openmp==2022.* in /srv/conda/envs/notebook/lib/python3.9/site-packages (from mkl) (2022.0.2)\r\n"
     ]
    }
   ],
   "source": [
    "!pip install mkl"
   ]
  },
  {
   "cell_type": "code",
   "execution_count": 3,
   "id": "e6592a3e",
   "metadata": {},
   "outputs": [],
   "source": [
    "import os\n",
    "os.environ[\"MKL_THREADING_LAYER\"] = \"GNU\""
   ]
  },
  {
   "cell_type": "code",
   "execution_count": 4,
   "id": "b9a2d4c4",
   "metadata": {
    "scrolled": true
   },
   "outputs": [
    {
     "name": "stderr",
     "output_type": "stream",
     "text": [
      "WARNING (theano.link.c.cmodule): install mkl with `conda install mkl-service`: No module named 'mkl'\n",
      "WARNING (theano.tensor.blas): Using NumPy C-API based implementation for BLAS functions.\n"
     ]
    }
   ],
   "source": [
    "import pandas as pd\n",
    "import pymc3 as pm\n",
    "import arviz as az\n",
    "import matplotlib.pyplot as plt\n",
    "import numpy as np"
   ]
  },
  {
   "cell_type": "code",
   "execution_count": 5,
   "id": "efc2f308",
   "metadata": {},
   "outputs": [
    {
     "name": "stdout",
     "output_type": "stream",
     "text": [
      "              t  red_pos_X  red_pos_Y  blue_pos_X  blue_pos_Y\n",
      "0      1.718397   1.330174   0.993564    1.081700   -1.295918\n",
      "1      2.998056   1.310404   1.012772    1.004997   -1.254394\n",
      "2      6.015073   1.270312   1.028386    1.113696   -1.321257\n",
      "3      8.267651   1.331131   0.948223    1.001845   -1.285209\n",
      "4      9.279321   1.346159   0.963485    1.113008   -1.261147\n",
      "..          ...        ...        ...         ...         ...\n",
      "233  917.257513   1.508631  -1.102589    1.336283    0.731539\n",
      "234  918.731229   1.527784  -1.089354    1.365426    0.704495\n",
      "235  920.799970   1.548625  -1.114348    1.274398    0.851536\n",
      "236  935.253542   1.546141  -1.122522    1.375008    0.789581\n",
      "237  943.819854   1.519060  -1.131294    1.381119    0.873799\n",
      "\n",
      "[238 rows x 5 columns]\n"
     ]
    }
   ],
   "source": [
    "position_data = pd.read_csv('location_data_hw8_2022.csv')\n",
    "print(position_data)"
   ]
  },
  {
   "cell_type": "markdown",
   "id": "d38b40c0",
   "metadata": {},
   "source": [
    "Data visualization"
   ]
  },
  {
   "cell_type": "code",
   "execution_count": 6,
   "id": "74689288",
   "metadata": {},
   "outputs": [
    {
     "data": {
      "text/plain": [
       "<matplotlib.collections.PathCollection at 0x7f7affbd9490>"
      ]
     },
     "execution_count": 6,
     "metadata": {},
     "output_type": "execute_result"
    },
    {
     "data": {
      "image/png": "[encoded data removed]",
      "text/plain": [
       "<Figure size 432x288 with 1 Axes>"
      ]
     },
     "metadata": {
      "needs_background": "light"
     },
     "output_type": "display_data"
    }
   ],
   "source": [
    "plt.scatter(position_data['red_pos_X'], position_data['red_pos_Y'], color='red')\n",
    "plt.scatter(position_data['blue_pos_X'], position_data['blue_pos_Y'], color='blue')"
   ]
  },
  {
   "cell_type": "code",
   "execution_count": 7,
   "id": "475da8ee",
   "metadata": {},
   "outputs": [
    {
     "data": {
      "text/plain": [
       "(array([21., 19., 21., 30., 19., 29., 26., 23., 26., 24.]),\n",
       " array([-1.35580515, -1.13284472, -0.90988428, -0.68692384, -0.4639634 ,\n",
       "        -0.24100297, -0.01804253,  0.20491791,  0.42787835,  0.65083879,\n",
       "         0.87379922]),\n",
       " <BarContainer object of 10 artists>)"
      ]
     },
     "execution_count": 7,
     "metadata": {},
     "output_type": "execute_result"
    },
    {
     "data": {
      "image/png": "[encoded data removed]",
      "text/plain": [
       "<Figure size 432x288 with 4 Axes>"
      ]
     },
     "metadata": {
      "needs_background": "light"
     },
     "output_type": "display_data"
    }
   ],
   "source": [
    "#Xs are gaussianly distributed and Ys are uniformly distributed\n",
    "fig, axs = plt.subplots(2,2)\n",
    "axs[0,0].hist(position_data['red_pos_X'])\n",
    "axs[0,1].hist(position_data['red_pos_Y'])\n",
    "axs[1,0].hist(position_data['blue_pos_X'])\n",
    "axs[1,1].hist(position_data['blue_pos_Y'])"
   ]
  },
  {
   "cell_type": "markdown",
   "id": "ac3556ba",
   "metadata": {},
   "source": [
    "# Use PyMC and Bayesian inference to answer the following questions:\n",
    "\n",
    "# a) What is the posterior of the speed of each object?"
   ]
  },
  {
   "cell_type": "markdown",
   "id": "67d9446f",
   "metadata": {},
   "source": [
    "We will consider everything to be normally distributed...\n",
    "\n",
    "We assume a posterior of the form $p( \\text{speed}| \\text{data}) \\approx p(\\text{data}|\\text{speed}) p(\\text{speed})$"
   ]
  },
  {
   "cell_type": "code",
   "execution_count": 33,
   "id": "03f8fa31",
   "metadata": {},
   "outputs": [],
   "source": [
    "t = position_data['t'].to_numpy()\n",
    "red_pos_X = position_data['red_pos_X'].to_numpy()\n",
    "red_pos_Y = position_data['red_pos_Y'].to_numpy()\n",
    "blue_pos_X = position_data['blue_pos_X'].to_numpy()\n",
    "blue_pos_Y = position_data['blue_pos_Y'].to_numpy()"
   ]
  },
  {
   "cell_type": "code",
   "execution_count": 34,
   "id": "6ad7b7eb",
   "metadata": {},
   "outputs": [],
   "source": [
    "delta_t = t[1::2] - t[0::2]\n",
    "red_speed_X = (np.abs(red_pos_X[1::2] - red_pos_X[0::2]))/delta_t\n",
    "red_speed_Y = (np.abs(red_pos_Y[1::2] - red_pos_Y[0::2]))/delta_t\n",
    "blue_speed_X = (np.abs(blue_pos_X[1::2] - blue_pos_X[0::2]))/delta_t\n",
    "blue_speed_Y = (np.abs(blue_pos_Y[1::2] - blue_pos_Y[0::2]))/delta_t\n"
   ]
  },
  {
   "cell_type": "code",
   "execution_count": 35,
   "id": "ca3ea742",
   "metadata": {},
   "outputs": [],
   "source": [
    "red_speed = np.sqrt(red_speed_X**2 + red_speed_Y**2)\n",
    "blue_speed = np.sqrt(blue_speed_X**2 + blue_speed_Y**2)\n"
   ]
  },
  {
   "cell_type": "code",
   "execution_count": 9,
   "id": "f00815df",
   "metadata": {},
   "outputs": [
    {
     "data": {
      "text/plain": [
       "(array([51., 32., 13., 14.,  4.,  1.,  1.,  2.,  0.,  1.]),\n",
       " array([4.01130991e-05, 1.64795603e-02, 3.29190076e-02, 4.93584548e-02,\n",
       "        6.57979021e-02, 8.22373493e-02, 9.86767966e-02, 1.15116244e-01,\n",
       "        1.31555691e-01, 1.47995138e-01, 1.64434586e-01]),\n",
       " <BarContainer object of 10 artists>)"
      ]
     },
     "execution_count": 9,
     "metadata": {},
     "output_type": "execute_result"
    },
    {
     "data": {
      "image/png": "[encoded data removed]",
      "text/plain": [
       "<Figure size 432x288 with 4 Axes>"
      ]
     },
     "metadata": {
      "needs_background": "light"
     },
     "output_type": "display_data"
    }
   ],
   "source": [
    "fig, axs = plt.subplots(2,2)\n",
    "axs[0,0].hist(red_speed_X)\n",
    "axs[0,1].hist(red_speed_Y)\n",
    "axs[1,0].hist(blue_speed_X)\n",
    "axs[1,1].hist(blue_speed_Y)"
   ]
  },
  {
   "cell_type": "markdown",
   "id": "6c3951ab",
   "metadata": {},
   "source": [
    "For red_speed_X, red_speed_Y, blue_speed_X, blue_speed_Y:"
   ]
  },
  {
   "cell_type": "code",
   "execution_count": 134,
   "id": "bbdf2c8e",
   "metadata": {},
   "outputs": [
    {
     "name": "stderr",
     "output_type": "stream",
     "text": [
      "Auto-assigning NUTS sampler...\n",
      "Initializing NUTS using jitter+adapt_diag...\n",
      "Multiprocess sampling (4 chains in 4 jobs)\n",
      "NUTS: [s]\n"
     ]
    },
    {
     "data": {
      "text/html": [
       "\n",
       "<style>\n",
       "    /* Turns off some styling */\n",
       "    progress {\n",
       "        /* gets rid of default border in Firefox and Opera. */\n",
       "        border: none;\n",
       "        /* Needs to be in here for Safari polyfill so background images work as expected. */\n",
       "        background-size: auto;\n",
       "    }\n",
       "    .progress-bar-interrupted, .progress-bar-interrupted::-webkit-progress-bar {\n",
       "        background: #F44336;\n",
       "    }\n",
       "</style>\n"
      ],
      "text/plain": [
       "<IPython.core.display.HTML object>"
      ]
     },
     "metadata": {},
     "output_type": "display_data"
    },
    {
     "data": {
      "text/html": [
       "\n",
       "    <div>\n",
       "      <progress value='8000' class='' max='8000' style='width:300px; height:20px; vertical-align: middle;'></progress>\n",
       "      100.00% [8000/8000 00:03<00:00 Sampling 4 chains, 0 divergences]\n",
       "    </div>\n",
       "    "
      ],
      "text/plain": [
       "<IPython.core.display.HTML object>"
      ]
     },
     "metadata": {},
     "output_type": "display_data"
    },
    {
     "name": "stderr",
     "output_type": "stream",
     "text": [
      "Sampling 4 chains for 1_000 tune and 1_000 draw iterations (4_000 + 4_000 draws total) took 3 seconds.\n"
     ]
    }
   ],
   "source": [
    "with pm.Model() as model:\n",
    "#    Prior normal distribution\n",
    "#     s = pm.Exponential('s', lam = 1)\n",
    "    s = pm.Normal('s', mu=0, sigma=1)\n",
    "#    Likelihood also normal distribution\n",
    "    x_s = pm.Normal('x_s', s, observed = red_speed_X)\n",
    "    \n",
    "    trace = pm.sample(return_inferencedata=True)"
   ]
  },
  {
   "cell_type": "code",
   "execution_count": 135,
   "id": "87f4cdb6",
   "metadata": {
    "scrolled": true
   },
   "outputs": [
    {
     "data": {
      "text/plain": [
       "<AxesSubplot:title={'center':'s'}>"
      ]
     },
     "execution_count": 135,
     "metadata": {},
     "output_type": "execute_result"
    },
    {
     "data": {
      "image/png": "[encoded data removed]",
      "text/plain": [
       "<Figure size 432x288 with 1 Axes>"
      ]
     },
     "metadata": {
      "needs_background": "light"
     },
     "output_type": "display_data"
    }
   ],
   "source": [
    "az.plot_posterior(trace, hdi_prob=0.99)"
   ]
  },
  {
   "cell_type": "code",
   "execution_count": 132,
   "id": "197e050a",
   "metadata": {},
   "outputs": [
    {
     "name": "stderr",
     "output_type": "stream",
     "text": [
      "Auto-assigning NUTS sampler...\n",
      "Initializing NUTS using jitter+adapt_diag...\n",
      "Multiprocess sampling (4 chains in 4 jobs)\n",
      "NUTS: [s]\n"
     ]
    },
    {
     "data": {
      "text/html": [
       "\n",
       "<style>\n",
       "    /* Turns off some styling */\n",
       "    progress {\n",
       "        /* gets rid of default border in Firefox and Opera. */\n",
       "        border: none;\n",
       "        /* Needs to be in here for Safari polyfill so background images work as expected. */\n",
       "        background-size: auto;\n",
       "    }\n",
       "    .progress-bar-interrupted, .progress-bar-interrupted::-webkit-progress-bar {\n",
       "        background: #F44336;\n",
       "    }\n",
       "</style>\n"
      ],
      "text/plain": [
       "<IPython.core.display.HTML object>"
      ]
     },
     "metadata": {},
     "output_type": "display_data"
    },
    {
     "data": {
      "text/html": [
       "\n",
       "    <div>\n",
       "      <progress value='8000' class='' max='8000' style='width:300px; height:20px; vertical-align: middle;'></progress>\n",
       "      100.00% [8000/8000 00:03<00:00 Sampling 4 chains, 0 divergences]\n",
       "    </div>\n",
       "    "
      ],
      "text/plain": [
       "<IPython.core.display.HTML object>"
      ]
     },
     "metadata": {},
     "output_type": "display_data"
    },
    {
     "name": "stderr",
     "output_type": "stream",
     "text": [
      "Sampling 4 chains for 1_000 tune and 1_000 draw iterations (4_000 + 4_000 draws total) took 3 seconds.\n"
     ]
    }
   ],
   "source": [
    "with pm.Model() as model:\n",
    "#    Prior normal distribution\n",
    "#     s = pm.Exponential('s', lam = 1)\n",
    "    s = pm.Normal('s', mu=0, sigma=1)\n",
    "#    Likelihood also normal distribution\n",
    "    x_s = pm.Normal('x_s', s, observed = red_speed_Y)\n",
    "    \n",
    "    trace = pm.sample(return_inferencedata=True)"
   ]
  },
  {
   "cell_type": "code",
   "execution_count": 133,
   "id": "aa686fa1",
   "metadata": {
    "scrolled": true
   },
   "outputs": [
    {
     "data": {
      "text/plain": [
       "<AxesSubplot:title={'center':'s'}>"
      ]
     },
     "execution_count": 133,
     "metadata": {},
     "output_type": "execute_result"
    },
    {
     "data": {
      "image/png": "[encoded data removed]",
      "text/plain": [
       "<Figure size 432x288 with 1 Axes>"
      ]
     },
     "metadata": {
      "needs_background": "light"
     },
     "output_type": "display_data"
    }
   ],
   "source": [
    "az.plot_posterior(trace, hdi_prob=0.99)"
   ]
  },
  {
   "cell_type": "code",
   "execution_count": 130,
   "id": "c7cad057",
   "metadata": {},
   "outputs": [
    {
     "name": "stderr",
     "output_type": "stream",
     "text": [
      "Auto-assigning NUTS sampler...\n",
      "Initializing NUTS using jitter+adapt_diag...\n",
      "Multiprocess sampling (4 chains in 4 jobs)\n",
      "NUTS: [s]\n"
     ]
    },
    {
     "data": {
      "text/html": [
       "\n",
       "<style>\n",
       "    /* Turns off some styling */\n",
       "    progress {\n",
       "        /* gets rid of default border in Firefox and Opera. */\n",
       "        border: none;\n",
       "        /* Needs to be in here for Safari polyfill so background images work as expected. */\n",
       "        background-size: auto;\n",
       "    }\n",
       "    .progress-bar-interrupted, .progress-bar-interrupted::-webkit-progress-bar {\n",
       "        background: #F44336;\n",
       "    }\n",
       "</style>\n"
      ],
      "text/plain": [
       "<IPython.core.display.HTML object>"
      ]
     },
     "metadata": {},
     "output_type": "display_data"
    },
    {
     "data": {
      "text/html": [
       "\n",
       "    <div>\n",
       "      <progress value='8000' class='' max='8000' style='width:300px; height:20px; vertical-align: middle;'></progress>\n",
       "      100.00% [8000/8000 00:03<00:00 Sampling 4 chains, 0 divergences]\n",
       "    </div>\n",
       "    "
      ],
      "text/plain": [
       "<IPython.core.display.HTML object>"
      ]
     },
     "metadata": {},
     "output_type": "display_data"
    },
    {
     "name": "stderr",
     "output_type": "stream",
     "text": [
      "Sampling 4 chains for 1_000 tune and 1_000 draw iterations (4_000 + 4_000 draws total) took 3 seconds.\n"
     ]
    }
   ],
   "source": [
    "with pm.Model() as model:\n",
    "#    Prior normal distribution\n",
    "#     s = pm.Exponential('s', lam = 1)\n",
    "    s = pm.Normal('s', mu=0, sigma=1)\n",
    "#    Likelihood also normal distribution\n",
    "    x_s = pm.Normal('x_s', s, observed = blue_speed_X)\n",
    "    \n",
    "    trace = pm.sample(return_inferencedata=True)"
   ]
  },
  {
   "cell_type": "code",
   "execution_count": 131,
   "id": "ecc2b93c",
   "metadata": {
    "scrolled": true
   },
   "outputs": [
    {
     "data": {
      "text/plain": [
       "<AxesSubplot:title={'center':'s'}>"
      ]
     },
     "execution_count": 131,
     "metadata": {},
     "output_type": "execute_result"
    },
    {
     "data": {
      "image/png": "[encoded data removed]",
      "text/plain": [
       "<Figure size 432x288 with 1 Axes>"
      ]
     },
     "metadata": {
      "needs_background": "light"
     },
     "output_type": "display_data"
    }
   ],
   "source": [
    "az.plot_posterior(trace, hdi_prob=0.99)"
   ]
  },
  {
   "cell_type": "code",
   "execution_count": 128,
   "id": "a19f306a",
   "metadata": {},
   "outputs": [
    {
     "name": "stderr",
     "output_type": "stream",
     "text": [
      "Auto-assigning NUTS sampler...\n",
      "Initializing NUTS using jitter+adapt_diag...\n",
      "Multiprocess sampling (4 chains in 4 jobs)\n",
      "NUTS: [s]\n"
     ]
    },
    {
     "data": {
      "text/html": [
       "\n",
       "<style>\n",
       "    /* Turns off some styling */\n",
       "    progress {\n",
       "        /* gets rid of default border in Firefox and Opera. */\n",
       "        border: none;\n",
       "        /* Needs to be in here for Safari polyfill so background images work as expected. */\n",
       "        background-size: auto;\n",
       "    }\n",
       "    .progress-bar-interrupted, .progress-bar-interrupted::-webkit-progress-bar {\n",
       "        background: #F44336;\n",
       "    }\n",
       "</style>\n"
      ],
      "text/plain": [
       "<IPython.core.display.HTML object>"
      ]
     },
     "metadata": {},
     "output_type": "display_data"
    },
    {
     "data": {
      "text/html": [
       "\n",
       "    <div>\n",
       "      <progress value='8000' class='' max='8000' style='width:300px; height:20px; vertical-align: middle;'></progress>\n",
       "      100.00% [8000/8000 00:02<00:00 Sampling 4 chains, 0 divergences]\n",
       "    </div>\n",
       "    "
      ],
      "text/plain": [
       "<IPython.core.display.HTML object>"
      ]
     },
     "metadata": {},
     "output_type": "display_data"
    },
    {
     "name": "stderr",
     "output_type": "stream",
     "text": [
      "Sampling 4 chains for 1_000 tune and 1_000 draw iterations (4_000 + 4_000 draws total) took 3 seconds.\n"
     ]
    }
   ],
   "source": [
    "with pm.Model() as model:\n",
    "#    Prior normal distribution\n",
    "#     s = pm.Exponential('s', lam = 1)\n",
    "    s = pm.Normal('s', mu=0, sigma=1)\n",
    "#    Likelihood also normal distribution\n",
    "    x_s = pm.Normal('x_s', s, observed = blue_speed_Y)\n",
    "    \n",
    "    trace = pm.sample(return_inferencedata=True)"
   ]
  },
  {
   "cell_type": "code",
   "execution_count": 129,
   "id": "1e28b0c5",
   "metadata": {
    "scrolled": true
   },
   "outputs": [
    {
     "data": {
      "text/plain": [
       "<AxesSubplot:title={'center':'s'}>"
      ]
     },
     "execution_count": 129,
     "metadata": {},
     "output_type": "execute_result"
    },
    {
     "data": {
      "image/png": "[encoded data removed]",
      "text/plain": [
       "<Figure size 432x288 with 1 Axes>"
      ]
     },
     "metadata": {
      "needs_background": "light"
     },
     "output_type": "display_data"
    }
   ],
   "source": [
    "az.plot_posterior(trace, hdi_prob=0.99)"
   ]
  },
  {
   "cell_type": "markdown",
   "id": "7890844f",
   "metadata": {},
   "source": [
    "Abusing probability, $v_{red} = \\sqrt{v_{red_x}^2 + v_{red_y}^2} = 0.018 $ and $v_{blue} = \\sqrt{v_{blue_x}^2 + v_{blue_y}^2} = 0.038 $ where we use the sampled posterior means for $v_{red_x}, v_{red_y}, v_{blue_x}, v_{blue_y}$. "
   ]
  },
  {
   "cell_type": "markdown",
   "id": "895318d4",
   "metadata": {},
   "source": [
    "# b) What is the 5% and 95% confidence interval of the time range when the true Y value of the Blue object is => 0 AND the true Y value of Red <=0? That is, what are the 5% and 95% quantiles of the estimated first time when Y_blue >= 0 and Y_red <= 0?"
   ]
  },
  {
   "cell_type": "markdown",
   "id": "13255de2",
   "metadata": {},
   "source": [
    "I don't know anything about frequentist statistics."
   ]
  },
  {
   "cell_type": "markdown",
   "id": "0c5fd015",
   "metadata": {},
   "source": [
    "# c) If both objects are known to be moving at the same speed, how does you answer in a and b change? That is, that the total magnitude of the velocity (sqrt[$v_x^2 + v_y^2$]) is the same for each object."
   ]
  },
  {
   "cell_type": "markdown",
   "id": "60a174d9",
   "metadata": {},
   "source": [
    "In a) we sampled the posterior for the speed in each direction($v_x, v_y$) and each color(red,blue) individually. It probably makes more sense to sample the posterior of the speed for each color instead, i.e., $v = \\sqrt{v_x^2 +v_y^2}$. In the case that the two objects have the same underlying speed, then our datapoints will have doubled and we should have a more accurate estimate of $v$. Again, we will sample the posterior and use the mean as the estimate for $v$."
   ]
  },
  {
   "cell_type": "code",
   "execution_count": 25,
   "id": "9b858535",
   "metadata": {
    "scrolled": true
   },
   "outputs": [
    {
     "data": {
      "text/plain": [
       "(array([19., 10.,  6.,  7.,  2.,  1.,  4.,  0.,  0.,  1.]),\n",
       " array([0.00138525, 0.00805972, 0.01473418, 0.02140864, 0.02808311,\n",
       "        0.03475757, 0.04143203, 0.0481065 , 0.05478096, 0.06145543,\n",
       "        0.06812989]),\n",
       " <BarContainer object of 10 artists>)"
      ]
     },
     "execution_count": 25,
     "metadata": {},
     "output_type": "execute_result"
    },
    {
     "data": {
      "image/png": "[encoded data removed]",
      "text/plain": [
       "<Figure size 432x288 with 1 Axes>"
      ]
     },
     "metadata": {
      "needs_background": "light"
     },
     "output_type": "display_data"
    }
   ],
   "source": [
    "plt.hist(red_speed)"
   ]
  },
  {
   "cell_type": "code",
   "execution_count": 26,
   "id": "1dfb24de",
   "metadata": {
    "scrolled": true
   },
   "outputs": [
    {
     "data": {
      "text/plain": [
       "(array([11., 13.,  9., 10.,  3.,  0.,  1.,  0.,  1.,  2.]),\n",
       " array([0.0020343 , 0.01604606, 0.03005782, 0.04406959, 0.05808135,\n",
       "        0.07209311, 0.08610488, 0.10011664, 0.1141284 , 0.12814017,\n",
       "        0.14215193]),\n",
       " <BarContainer object of 10 artists>)"
      ]
     },
     "execution_count": 26,
     "metadata": {},
     "output_type": "execute_result"
    },
    {
     "data": {
      "image/png": "[encoded data removed]",
      "text/plain": [
       "<Figure size 432x288 with 1 Axes>"
      ]
     },
     "metadata": {
      "needs_background": "light"
     },
     "output_type": "display_data"
    }
   ],
   "source": [
    "plt.hist(blue_speed)"
   ]
  },
  {
   "cell_type": "code",
   "execution_count": 36,
   "id": "c608ffa2",
   "metadata": {},
   "outputs": [],
   "source": [
    "speeds = np.concatenate((blue_speed, red_speed))"
   ]
  },
  {
   "cell_type": "code",
   "execution_count": 39,
   "id": "9b0dfa98",
   "metadata": {},
   "outputs": [
    {
     "name": "stderr",
     "output_type": "stream",
     "text": [
      "Auto-assigning NUTS sampler...\n",
      "Initializing NUTS using jitter+adapt_diag...\n",
      "Multiprocess sampling (4 chains in 4 jobs)\n",
      "NUTS: [s]\n"
     ]
    },
    {
     "data": {
      "text/html": [
       "\n",
       "<style>\n",
       "    /* Turns off some styling */\n",
       "    progress {\n",
       "        /* gets rid of default border in Firefox and Opera. */\n",
       "        border: none;\n",
       "        /* Needs to be in here for Safari polyfill so background images work as expected. */\n",
       "        background-size: auto;\n",
       "    }\n",
       "    .progress-bar-interrupted, .progress-bar-interrupted::-webkit-progress-bar {\n",
       "        background: #F44336;\n",
       "    }\n",
       "</style>\n"
      ],
      "text/plain": [
       "<IPython.core.display.HTML object>"
      ]
     },
     "metadata": {},
     "output_type": "display_data"
    },
    {
     "data": {
      "text/html": [
       "\n",
       "    <div>\n",
       "      <progress value='8000' class='' max='8000' style='width:300px; height:20px; vertical-align: middle;'></progress>\n",
       "      100.00% [8000/8000 00:02<00:00 Sampling 4 chains, 0 divergences]\n",
       "    </div>\n",
       "    "
      ],
      "text/plain": [
       "<IPython.core.display.HTML object>"
      ]
     },
     "metadata": {},
     "output_type": "display_data"
    },
    {
     "name": "stderr",
     "output_type": "stream",
     "text": [
      "Sampling 4 chains for 1_000 tune and 1_000 draw iterations (4_000 + 4_000 draws total) took 3 seconds.\n"
     ]
    }
   ],
   "source": [
    "with pm.Model() as model:\n",
    "#    Prior normal distribution\n",
    "#     s = pm.Exponential('s', lam = 1)\n",
    "    s = pm.Normal('s', mu=0, sigma=1)\n",
    "#    Likelihood also normal distribution\n",
    "    x_s = pm.Normal('x_s', s, observed = speeds)\n",
    "    \n",
    "    trace = pm.sample(return_inferencedata=True)"
   ]
  },
  {
   "cell_type": "code",
   "execution_count": 40,
   "id": "4b47b16e",
   "metadata": {
    "scrolled": false
   },
   "outputs": [
    {
     "data": {
      "text/plain": [
       "<AxesSubplot:title={'center':'s'}>"
      ]
     },
     "execution_count": 40,
     "metadata": {},
     "output_type": "execute_result"
    },
    {
     "data": {
      "image/png": "[encoded data removed]",
      "text/plain": [
       "<Figure size 432x288 with 1 Axes>"
      ]
     },
     "metadata": {
      "needs_background": "light"
     },
     "output_type": "display_data"
    }
   ],
   "source": [
    "az.plot_posterior(trace, hdi_prob=0.99)"
   ]
  },
  {
   "cell_type": "markdown",
   "id": "fc15477e",
   "metadata": {},
   "source": [
    "# d) Repeat your answers for a-c by using only the first 100 measurements? Do the changes make sense?"
   ]
  },
  {
   "cell_type": "code",
   "execution_count": 42,
   "id": "831c96bb",
   "metadata": {},
   "outputs": [],
   "source": [
    "delta_t = t[1:100:2] - t[0:100:2]\n",
    "red_speed_X = (np.abs(red_pos_X[1:100:2] - red_pos_X[0:100:2]))/delta_t\n",
    "red_speed_Y = (np.abs(red_pos_Y[1:100:2] - red_pos_Y[0:100:2]))/delta_t\n",
    "blue_speed_X = (np.abs(blue_pos_X[1:100:2] - blue_pos_X[0:100:2]))/delta_t\n",
    "blue_speed_Y = (np.abs(blue_pos_Y[1:100:2] - blue_pos_Y[0:100:2]))/delta_t\n"
   ]
  },
  {
   "cell_type": "code",
   "execution_count": 43,
   "id": "3c624c9b",
   "metadata": {},
   "outputs": [],
   "source": [
    "red_speed = np.sqrt(red_speed_X**2 + red_speed_Y**2)\n",
    "blue_speed = np.sqrt(blue_speed_X**2 + blue_speed_Y**2)\n"
   ]
  },
  {
   "cell_type": "code",
   "execution_count": 16,
   "id": "1da5d063",
   "metadata": {},
   "outputs": [
    {
     "data": {
      "text/plain": [
       "(array([17., 14., 10.,  5.,  1.,  0.,  0.,  1.,  0.,  2.]),\n",
       " array([4.01130991e-05, 1.28660906e-02, 2.56920680e-02, 3.85180455e-02,\n",
       "        5.13440230e-02, 6.41700004e-02, 7.69959779e-02, 8.98219554e-02,\n",
       "        1.02647933e-01, 1.15473910e-01, 1.28299888e-01]),\n",
       " <BarContainer object of 10 artists>)"
      ]
     },
     "execution_count": 16,
     "metadata": {},
     "output_type": "execute_result"
    },
    {
     "data": {
      "image/png": "[encoded data removed]",
      "text/plain": [
       "<Figure size 432x288 with 4 Axes>"
      ]
     },
     "metadata": {
      "needs_background": "light"
     },
     "output_type": "display_data"
    }
   ],
   "source": [
    "fig, axs = plt.subplots(2,2)\n",
    "axs[0,0].hist(red_speed_X)\n",
    "axs[0,1].hist(red_speed_Y)\n",
    "axs[1,0].hist(blue_speed_X)\n",
    "axs[1,1].hist(blue_speed_Y)"
   ]
  },
  {
   "cell_type": "markdown",
   "id": "0ac971ac",
   "metadata": {},
   "source": [
    "For red_speed_X, red_speed_Y, blue_speed_X, blue_speed_Y:"
   ]
  },
  {
   "cell_type": "code",
   "execution_count": 17,
   "id": "2de09da7",
   "metadata": {},
   "outputs": [
    {
     "name": "stderr",
     "output_type": "stream",
     "text": [
      "Auto-assigning NUTS sampler...\n",
      "Initializing NUTS using jitter+adapt_diag...\n",
      "Multiprocess sampling (4 chains in 4 jobs)\n",
      "NUTS: [s]\n"
     ]
    },
    {
     "data": {
      "text/html": [
       "\n",
       "<style>\n",
       "    /* Turns off some styling */\n",
       "    progress {\n",
       "        /* gets rid of default border in Firefox and Opera. */\n",
       "        border: none;\n",
       "        /* Needs to be in here for Safari polyfill so background images work as expected. */\n",
       "        background-size: auto;\n",
       "    }\n",
       "    .progress-bar-interrupted, .progress-bar-interrupted::-webkit-progress-bar {\n",
       "        background: #F44336;\n",
       "    }\n",
       "</style>\n"
      ],
      "text/plain": [
       "<IPython.core.display.HTML object>"
      ]
     },
     "metadata": {},
     "output_type": "display_data"
    },
    {
     "data": {
      "text/html": [
       "\n",
       "    <div>\n",
       "      <progress value='8000' class='' max='8000' style='width:300px; height:20px; vertical-align: middle;'></progress>\n",
       "      100.00% [8000/8000 00:02<00:00 Sampling 4 chains, 0 divergences]\n",
       "    </div>\n",
       "    "
      ],
      "text/plain": [
       "<IPython.core.display.HTML object>"
      ]
     },
     "metadata": {},
     "output_type": "display_data"
    },
    {
     "name": "stderr",
     "output_type": "stream",
     "text": [
      "Sampling 4 chains for 1_000 tune and 1_000 draw iterations (4_000 + 4_000 draws total) took 4 seconds.\n"
     ]
    }
   ],
   "source": [
    "with pm.Model() as model:\n",
    "#    Prior normal distribution\n",
    "#     s = pm.Exponential('s', lam = 1)\n",
    "    s = pm.Normal('s', mu=0, sigma=1)\n",
    "#    Likelihood also normal distribution\n",
    "    x_s = pm.Normal('x_s', s, observed = red_speed_X)\n",
    "    \n",
    "    trace = pm.sample(return_inferencedata=True)"
   ]
  },
  {
   "cell_type": "code",
   "execution_count": 18,
   "id": "6c52c1d9",
   "metadata": {
    "scrolled": true
   },
   "outputs": [
    {
     "data": {
      "text/plain": [
       "<AxesSubplot:title={'center':'s'}>"
      ]
     },
     "execution_count": 18,
     "metadata": {},
     "output_type": "execute_result"
    },
    {
     "data": {
      "image/png": "[encoded data removed]",
      "text/plain": [
       "<Figure size 432x288 with 1 Axes>"
      ]
     },
     "metadata": {
      "needs_background": "light"
     },
     "output_type": "display_data"
    }
   ],
   "source": [
    "az.plot_posterior(trace, hdi_prob=0.99)"
   ]
  },
  {
   "cell_type": "code",
   "execution_count": 19,
   "id": "e7832483",
   "metadata": {},
   "outputs": [
    {
     "name": "stderr",
     "output_type": "stream",
     "text": [
      "Auto-assigning NUTS sampler...\n",
      "Initializing NUTS using jitter+adapt_diag...\n",
      "Multiprocess sampling (4 chains in 4 jobs)\n",
      "NUTS: [s]\n"
     ]
    },
    {
     "data": {
      "text/html": [
       "\n",
       "<style>\n",
       "    /* Turns off some styling */\n",
       "    progress {\n",
       "        /* gets rid of default border in Firefox and Opera. */\n",
       "        border: none;\n",
       "        /* Needs to be in here for Safari polyfill so background images work as expected. */\n",
       "        background-size: auto;\n",
       "    }\n",
       "    .progress-bar-interrupted, .progress-bar-interrupted::-webkit-progress-bar {\n",
       "        background: #F44336;\n",
       "    }\n",
       "</style>\n"
      ],
      "text/plain": [
       "<IPython.core.display.HTML object>"
      ]
     },
     "metadata": {},
     "output_type": "display_data"
    },
    {
     "data": {
      "text/html": [
       "\n",
       "    <div>\n",
       "      <progress value='8000' class='' max='8000' style='width:300px; height:20px; vertical-align: middle;'></progress>\n",
       "      100.00% [8000/8000 00:02<00:00 Sampling 4 chains, 0 divergences]\n",
       "    </div>\n",
       "    "
      ],
      "text/plain": [
       "<IPython.core.display.HTML object>"
      ]
     },
     "metadata": {},
     "output_type": "display_data"
    },
    {
     "name": "stderr",
     "output_type": "stream",
     "text": [
      "Sampling 4 chains for 1_000 tune and 1_000 draw iterations (4_000 + 4_000 draws total) took 3 seconds.\n"
     ]
    }
   ],
   "source": [
    "with pm.Model() as model:\n",
    "#    Prior normal distribution\n",
    "#     s = pm.Exponential('s', lam = 1)\n",
    "    s = pm.Normal('s', mu=0, sigma=1)\n",
    "#    Likelihood also normal distribution\n",
    "    x_s = pm.Normal('x_s', s, observed = red_speed_Y)\n",
    "    \n",
    "    trace = pm.sample(return_inferencedata=True)"
   ]
  },
  {
   "cell_type": "code",
   "execution_count": 20,
   "id": "616512f7",
   "metadata": {
    "scrolled": true
   },
   "outputs": [
    {
     "data": {
      "text/plain": [
       "<AxesSubplot:title={'center':'s'}>"
      ]
     },
     "execution_count": 20,
     "metadata": {},
     "output_type": "execute_result"
    },
    {
     "data": {
      "image/png": "[encoded data removed]",
      "text/plain": [
       "<Figure size 432x288 with 1 Axes>"
      ]
     },
     "metadata": {
      "needs_background": "light"
     },
     "output_type": "display_data"
    }
   ],
   "source": [
    "az.plot_posterior(trace, hdi_prob=0.99)"
   ]
  },
  {
   "cell_type": "code",
   "execution_count": 21,
   "id": "c420cf0a",
   "metadata": {},
   "outputs": [
    {
     "name": "stderr",
     "output_type": "stream",
     "text": [
      "Auto-assigning NUTS sampler...\n",
      "Initializing NUTS using jitter+adapt_diag...\n",
      "Multiprocess sampling (4 chains in 4 jobs)\n",
      "NUTS: [s]\n"
     ]
    },
    {
     "data": {
      "text/html": [
       "\n",
       "<style>\n",
       "    /* Turns off some styling */\n",
       "    progress {\n",
       "        /* gets rid of default border in Firefox and Opera. */\n",
       "        border: none;\n",
       "        /* Needs to be in here for Safari polyfill so background images work as expected. */\n",
       "        background-size: auto;\n",
       "    }\n",
       "    .progress-bar-interrupted, .progress-bar-interrupted::-webkit-progress-bar {\n",
       "        background: #F44336;\n",
       "    }\n",
       "</style>\n"
      ],
      "text/plain": [
       "<IPython.core.display.HTML object>"
      ]
     },
     "metadata": {},
     "output_type": "display_data"
    },
    {
     "data": {
      "text/html": [
       "\n",
       "    <div>\n",
       "      <progress value='8000' class='' max='8000' style='width:300px; height:20px; vertical-align: middle;'></progress>\n",
       "      100.00% [8000/8000 00:02<00:00 Sampling 4 chains, 0 divergences]\n",
       "    </div>\n",
       "    "
      ],
      "text/plain": [
       "<IPython.core.display.HTML object>"
      ]
     },
     "metadata": {},
     "output_type": "display_data"
    },
    {
     "name": "stderr",
     "output_type": "stream",
     "text": [
      "Sampling 4 chains for 1_000 tune and 1_000 draw iterations (4_000 + 4_000 draws total) took 3 seconds.\n"
     ]
    }
   ],
   "source": [
    "with pm.Model() as model:\n",
    "#    Prior normal distribution\n",
    "#     s = pm.Exponential('s', lam = 1)\n",
    "    s = pm.Normal('s', mu=0, sigma=1)\n",
    "#    Likelihood also normal distribution\n",
    "    x_s = pm.Normal('x_s', s, observed = blue_speed_X)\n",
    "    \n",
    "    trace = pm.sample(return_inferencedata=True)"
   ]
  },
  {
   "cell_type": "code",
   "execution_count": 22,
   "id": "1f3bdea3",
   "metadata": {
    "scrolled": true
   },
   "outputs": [
    {
     "data": {
      "text/plain": [
       "<AxesSubplot:title={'center':'s'}>"
      ]
     },
     "execution_count": 22,
     "metadata": {},
     "output_type": "execute_result"
    },
    {
     "data": {
      "image/png": "[encoded data removed]",
      "text/plain": [
       "<Figure size 432x288 with 1 Axes>"
      ]
     },
     "metadata": {
      "needs_background": "light"
     },
     "output_type": "display_data"
    }
   ],
   "source": [
    "az.plot_posterior(trace, hdi_prob=0.99)"
   ]
  },
  {
   "cell_type": "code",
   "execution_count": 23,
   "id": "d0941862",
   "metadata": {},
   "outputs": [
    {
     "name": "stderr",
     "output_type": "stream",
     "text": [
      "Auto-assigning NUTS sampler...\n",
      "Initializing NUTS using jitter+adapt_diag...\n",
      "Multiprocess sampling (4 chains in 4 jobs)\n",
      "NUTS: [s]\n"
     ]
    },
    {
     "data": {
      "text/html": [
       "\n",
       "<style>\n",
       "    /* Turns off some styling */\n",
       "    progress {\n",
       "        /* gets rid of default border in Firefox and Opera. */\n",
       "        border: none;\n",
       "        /* Needs to be in here for Safari polyfill so background images work as expected. */\n",
       "        background-size: auto;\n",
       "    }\n",
       "    .progress-bar-interrupted, .progress-bar-interrupted::-webkit-progress-bar {\n",
       "        background: #F44336;\n",
       "    }\n",
       "</style>\n"
      ],
      "text/plain": [
       "<IPython.core.display.HTML object>"
      ]
     },
     "metadata": {},
     "output_type": "display_data"
    },
    {
     "data": {
      "text/html": [
       "\n",
       "    <div>\n",
       "      <progress value='8000' class='' max='8000' style='width:300px; height:20px; vertical-align: middle;'></progress>\n",
       "      100.00% [8000/8000 00:02<00:00 Sampling 4 chains, 0 divergences]\n",
       "    </div>\n",
       "    "
      ],
      "text/plain": [
       "<IPython.core.display.HTML object>"
      ]
     },
     "metadata": {},
     "output_type": "display_data"
    },
    {
     "name": "stderr",
     "output_type": "stream",
     "text": [
      "Sampling 4 chains for 1_000 tune and 1_000 draw iterations (4_000 + 4_000 draws total) took 3 seconds.\n"
     ]
    }
   ],
   "source": [
    "with pm.Model() as model:\n",
    "#    Prior normal distribution\n",
    "#     s = pm.Exponential('s', lam = 1)\n",
    "    s = pm.Normal('s', mu=0, sigma=1)\n",
    "#    Likelihood also normal distribution\n",
    "    x_s = pm.Normal('x_s', s, observed = blue_speed_Y)\n",
    "    \n",
    "    trace = pm.sample(return_inferencedata=True)"
   ]
  },
  {
   "cell_type": "code",
   "execution_count": 24,
   "id": "97363baf",
   "metadata": {
    "scrolled": true
   },
   "outputs": [
    {
     "data": {
      "text/plain": [
       "<AxesSubplot:title={'center':'s'}>"
      ]
     },
     "execution_count": 24,
     "metadata": {},
     "output_type": "execute_result"
    },
    {
     "data": {
      "image/png": "[encoded data removed]",
      "text/plain": [
       "<Figure size 432x288 with 1 Axes>"
      ]
     },
     "metadata": {
      "needs_background": "light"
     },
     "output_type": "display_data"
    }
   ],
   "source": [
    "az.plot_posterior(trace, hdi_prob=0.99)"
   ]
  },
  {
   "cell_type": "markdown",
   "id": "d53be7e1",
   "metadata": {},
   "source": [
    "Abusing probability, $v_{red} = \\sqrt{v_{red_x}^2 + v_{red_y}^2} = 0.013 $ and $v_{blue} = \\sqrt{v_{blue_x}^2 + v_{blue_y}^2} = 0.033 $ where we use the sampled posterior means for $v_{red_x}, v_{red_y}, v_{blue_x}, v_{blue_y}$. "
   ]
  },
  {
   "cell_type": "markdown",
   "id": "2b25ede5",
   "metadata": {},
   "source": [
    "### For C) with the first 100 datapoints"
   ]
  },
  {
   "cell_type": "code",
   "execution_count": 48,
   "id": "578e89ea",
   "metadata": {},
   "outputs": [
    {
     "name": "stdout",
     "output_type": "stream",
     "text": [
      "100\n"
     ]
    }
   ],
   "source": [
    "speeds = np.concatenate((blue_speed, red_speed))\n",
    "print(len(speeds))"
   ]
  },
  {
   "cell_type": "code",
   "execution_count": 49,
   "id": "965a5d06",
   "metadata": {},
   "outputs": [
    {
     "name": "stderr",
     "output_type": "stream",
     "text": [
      "Auto-assigning NUTS sampler...\n",
      "Initializing NUTS using jitter+adapt_diag...\n",
      "Multiprocess sampling (4 chains in 4 jobs)\n",
      "NUTS: [s]\n"
     ]
    },
    {
     "data": {
      "text/html": [
       "\n",
       "<style>\n",
       "    /* Turns off some styling */\n",
       "    progress {\n",
       "        /* gets rid of default border in Firefox and Opera. */\n",
       "        border: none;\n",
       "        /* Needs to be in here for Safari polyfill so background images work as expected. */\n",
       "        background-size: auto;\n",
       "    }\n",
       "    .progress-bar-interrupted, .progress-bar-interrupted::-webkit-progress-bar {\n",
       "        background: #F44336;\n",
       "    }\n",
       "</style>\n"
      ],
      "text/plain": [
       "<IPython.core.display.HTML object>"
      ]
     },
     "metadata": {},
     "output_type": "display_data"
    },
    {
     "data": {
      "text/html": [
       "\n",
       "    <div>\n",
       "      <progress value='8000' class='' max='8000' style='width:300px; height:20px; vertical-align: middle;'></progress>\n",
       "      100.00% [8000/8000 00:02<00:00 Sampling 4 chains, 0 divergences]\n",
       "    </div>\n",
       "    "
      ],
      "text/plain": [
       "<IPython.core.display.HTML object>"
      ]
     },
     "metadata": {},
     "output_type": "display_data"
    },
    {
     "name": "stderr",
     "output_type": "stream",
     "text": [
      "Sampling 4 chains for 1_000 tune and 1_000 draw iterations (4_000 + 4_000 draws total) took 3 seconds.\n"
     ]
    }
   ],
   "source": [
    "with pm.Model() as model:\n",
    "#    Prior normal distribution\n",
    "#     s = pm.Exponential('s', lam = 1)\n",
    "    s = pm.Normal('s', mu=0, sigma=1)\n",
    "#    Likelihood also normal distribution\n",
    "    x_s = pm.Normal('x_s', s, observed = speeds)\n",
    "    \n",
    "    trace = pm.sample(return_inferencedata=True)"
   ]
  },
  {
   "cell_type": "code",
   "execution_count": 50,
   "id": "276c0d90",
   "metadata": {
    "scrolled": false
   },
   "outputs": [
    {
     "data": {
      "text/plain": [
       "<AxesSubplot:title={'center':'s'}>"
      ]
     },
     "execution_count": 50,
     "metadata": {},
     "output_type": "execute_result"
    },
    {
     "data": {
      "image/png": "[encoded data removed]",
      "text/plain": [
       "<Figure size 432x288 with 1 Axes>"
      ]
     },
     "metadata": {
      "needs_background": "light"
     },
     "output_type": "display_data"
    }
   ],
   "source": [
    "az.plot_posterior(trace, hdi_prob=0.99)"
   ]
  },
  {
   "cell_type": "code",
   "execution_count": null,
   "id": "95a511ae",
   "metadata": {},
   "outputs": [],
   "source": []
  }
 ],
 "metadata": {
  "kernelspec": {
   "display_name": "Python 3 (ipykernel)",
   "language": "python",
   "name": "python3"
  },
  "language_info": {
   "codemirror_mode": {
    "name": "ipython",
    "version": 3
   },
   "file_extension": ".py",
   "mimetype": "text/x-python",
   "name": "python",
   "nbconvert_exporter": "python",
   "pygments_lexer": "ipython3",
   "version": "3.9.9"
  }
 },
 "nbformat": 4,
 "nbformat_minor": 5
}
